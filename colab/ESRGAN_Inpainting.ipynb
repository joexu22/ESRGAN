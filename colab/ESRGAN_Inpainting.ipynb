{
  "nbformat": 4,
  "nbformat_minor": 0,
  "metadata": {
    "colab": {
      "name": "ESRGAN_Inpainting.ipynb",
      "private_outputs": true,
      "provenance": [],
      "collapsed_sections": [],
      "include_colab_link": true
    },
    "kernelspec": {
      "name": "python3",
      "display_name": "Python 3"
    },
    "accelerator": "GPU"
  },
  "cells": [
    {
      "cell_type": "markdown",
      "metadata": {
        "id": "view-in-github",
        "colab_type": "text"
      },
      "source": [
        "<a href=\"https://colab.research.google.com/github/joexu22/ESRGAN/blob/master/colab/ESRGAN_Inpainting.ipynb\" target=\"_parent\"><img src=\"https://colab.research.google.com/assets/colab-badge.svg\" alt=\"Open In Colab\"/></a>"
      ]
    },
    {
      "cell_type": "markdown",
      "metadata": {
        "id": "OkA1dmMjKDR7"
      },
      "source": [
        "Use ESRGAN To Inpaint Borders"
      ]
    },
    {
      "cell_type": "code",
      "metadata": {
        "id": "rPgYshwdKCKr"
      },
      "source": [
        "#@title Check your GPU and your VRAM\n",
        "!nvidia-smi"
      ],
      "execution_count": null,
      "outputs": []
    },
    {
      "cell_type": "code",
      "metadata": {
        "id": "85zNm0-XLZ3g"
      },
      "source": [
        "from google.colab import drive\n",
        "drive.mount('/content/drive')"
      ],
      "execution_count": null,
      "outputs": []
    },
    {
      "cell_type": "code",
      "metadata": {
        "id": "iH3zp5Ddv-Mx"
      },
      "source": [
        "\"\"\"\n",
        "%cd \"/content/drive/MyDrive/008 - AI and Me/3_Resources\"\n",
        "!wget --no-check-certificate 'https://docs.google.com/uc?export=download&id=1MJFgqXJrMkPdKtiuy7C6xfsU1QIbXEb-' -O \"RRDB_ESRGAN_x4.pth\"\n",
        "!wget --no-check-certificate 'https://docs.google.com/uc?export=download&id=1mSJ6Z40weL-dnPvi390xDd3uZBCFMeqr' -O \"RRDB_PSNR_x4.pth\"\n",
        "!wget --no-check-certificate \"https://de-next.owncube.com/index.php/s/x99pKzS7TNaErrC/download\" -O \"4x_fatal_Anime_500000_G.pth\"\n",
        "!wget --no-check-certificate \"https://de-next.owncube.com/index.php/s/mDGmi7NgdyyQRXL/download?path=%2F&files=4x_FatalPixels_340000_G.pth&downloadStartSecret=r4q3aw60ijm\" -O \"4x_FatalPixels_340000_G.pth\"\n",
        "!wget --no-check-certificate \"https://de-next.owncube.com/index.php/s/w82HLrLWmWi4SQ5/download\" -O \"1x_DeJpeg_Fatality_PlusULTRA_200000_G.pth\"\n",
        "!gdown --id 14lA-Ks5quxheNyVeXRvzeoSAOm6ISDHn -O \"4x_NMKD-YandereNeo-Lite_320k.pth\"\n",
        "\"\"\""
      ],
      "execution_count": null,
      "outputs": []
    },
    {
      "cell_type": "code",
      "metadata": {
        "id": "9dakO6jiieE1"
      },
      "source": [
        "!pip install typer\n",
        "!pip install rich"
      ],
      "execution_count": null,
      "outputs": []
    },
    {
      "cell_type": "code",
      "metadata": {
        "id": "xDZYlWcNLTwa"
      },
      "source": [
        "%cd \"/content\"\n",
        "!git clone https://github.com/joexu22/ESRGAN.git ESRGAN_Inpainting"
      ],
      "execution_count": null,
      "outputs": []
    },
    {
      "cell_type": "markdown",
      "metadata": {
        "id": "Liz3dXRw2QWo"
      },
      "source": [
        "# New Section"
      ]
    },
    {
      "cell_type": "code",
      "metadata": {
        "id": "qOWwLyRtUvmN"
      },
      "source": [
        "from google.colab import files\n",
        "from pathlib import Path\n",
        "import PIL\n",
        "from PIL import Image, ImageDraw\n",
        "import shutil\n",
        "import os"
      ],
      "execution_count": null,
      "outputs": []
    },
    {
      "cell_type": "code",
      "metadata": {
        "id": "QTDxf1ldaqMO"
      },
      "source": [
        "# this adds either a cloumn or row to a image\n",
        "def add_pixel_layer(image_width, image_height, image):\n",
        "  if (image_height > image_width):\n",
        "    canvas1 = PIL.Image.new('RGBA', (image_width+1, image_height), \"#00ff00\")\n",
        "    canvas1.paste(image, (0,0)) # right column green\n",
        "    if (image_height > image_width):\n",
        "      canvas2 = PIL.Image.new('RGBA', (image_width+2, image_height), \"#00ff00\")\n",
        "      canvas2.paste(canvas1, (1,0)) # left column green\n",
        "      return canvas2\n",
        "  elif (image_height < image_width):\n",
        "    canvas1 = PIL.Image.new('RGBA', (image_width, image_height+1), \"#00ff00\")\n",
        "    canvas1.paste(image, (0,1)) # top row green\n",
        "    if (image_height < image_width):\n",
        "      canvas2 = PIL.Image.new('RGBA', (image_width, image_height+2), \"#00ff00\")\n",
        "      canvas2.paste(canvas1, (0,0)) # bottom row green\n",
        "      return canvas2\n",
        "  else:\n",
        "    canvas = PIL.Image.new('RGBA', (image_width+1, image_height), \"#00ff00\")\n",
        "    canvas.paste(image, (0,0))\n",
        "    return canvas"
      ],
      "execution_count": null,
      "outputs": []
    },
    {
      "cell_type": "code",
      "metadata": {
        "id": "HEZuKcL9wy-h"
      },
      "source": [
        "%cd \"/content/ESRGAN_Inpainting\"\n",
        "!mkdir results\n",
        "\n",
        "# initial image\n",
        "for filename in [str(result) for result in list(Path('/content/ESRGAN_Inpainting/input').iterdir()) if str(result).endswith('.png')]:\n",
        "  input_image = Image.open(filename)\n",
        "\n",
        "# find target dimension\n",
        "target_dimensions = max(input_image.size) # max of (width, height)\n",
        "print(\"The Current Dimension We Have Is - {0}x{1}\".format(input_image.size[0], input_image.size[1]))\n",
        "print(\"The Target Dimension We Want Is - {0}x{0}\".format(target_dimensions))"
      ],
      "execution_count": null,
      "outputs": []
    },
    {
      "cell_type": "code",
      "metadata": {
        "id": "mRYsIDwqf2yt"
      },
      "source": [
        "# TODO function with pathname and optional name\n",
        "# deal with compression artifacts?\n",
        "!python upscale.py '/content/drive/MyDrive/008 - AI and Me/3_Resources/1x_DeJpeg_Fatality_PlusULTRA_200000_G.pth' --input input/ --output output/\n",
        "## move output to input\n",
        "### delete input\n",
        "shutil.rmtree('/content/ESRGAN_Inpainting/input', ignore_errors=True)\n",
        "if not os.path.exists('/content/ESRGAN_Inpainting/input'):\n",
        "  os.mkdir('/content/ESRGAN_Inpainting/input')\n",
        "### move output to input\n",
        "for filename in [str(output) for output in list(Path('/content/ESRGAN_Inpainting/output').iterdir()) if str(output).endswith('.png')]:\n",
        "  output_image = Image.open(filename)\n",
        "output_image.save('/content/ESRGAN_Inpainting/input/processed_img.png')\n",
        "### delete output\n",
        "shutil.rmtree('/content/ESRGAN_Inpainting/output', ignore_errors=True)\n",
        "if not os.path.exists('/content/ESRGAN_Inpainting/output'):\n",
        "  os.mkdir('/content/ESRGAN_Inpainting/output')"
      ],
      "execution_count": null,
      "outputs": []
    },
    {
      "cell_type": "code",
      "metadata": {
        "id": "Io3qz0blfvzD"
      },
      "source": [
        "%cd \"/content/ESRGAN_Inpainting\"\n",
        "image_w = 0\n",
        "image_h = 0\n",
        "target_d = target_dimensions\n",
        "\n",
        "input_path = '/content/ESRGAN_Inpainting/input/'\n",
        "output_path = '/content/ESRGAN_Inpainting/output/'\n",
        "results_path = '/content/ESRGAN_Inpainting/results/'\n",
        "\n",
        "while image_w < target_d or image_h < target_d:\n",
        "  # add layer\n",
        "  for filename in [str(result) for result in list(Path(input_path).iterdir()) if str(result).endswith('.png')]:\n",
        "    before_image = Image.open(filename)\n",
        "  \n",
        "  # keep before image in memory\n",
        "  old_img = before_image\n",
        "\n",
        "  # image has #00ff00 layer added\n",
        "  prep_img = add_pixel_layer(before_image.size[0], before_image.size[1], before_image)\n",
        "\n",
        "  # process the image\n",
        "  ## save the 'prepared' image as new input\n",
        "  shutil.rmtree(input_path, ignore_errors=True)\n",
        "  if not os.path.exists(input_path):\n",
        "    os.mkdir(input_path)\n",
        "  prep_img.save(input_path + 'prepared_img.png')\n",
        "\n",
        "  ## use the model\n",
        "  !python upscale.py \"/content/drive/MyDrive/008 - AI and Me/3_Resources/1x_NMKD-YandereInpaint_375000_G.pth\" --input input/ --output output/\n",
        "\n",
        "  # manage the ouput/processed image\n",
        "  for filename in [str(output) for output in list(Path(output_path).iterdir()) if str(output).endswith('.png')]:\n",
        "    output_image = Image.open(filename)\n",
        "  \n",
        "  ## paste original image back in\n",
        "  canvas = PIL.Image.new('RGBA', (output_image.size[0], output_image.size[1]), 'white')\n",
        "  canvas.paste(output_image, (0,0))\n",
        "  canvas.paste(old_img, (1,0))\n",
        "\n",
        "  ## save a copy to results\n",
        "  result_image_name = \"result-img-{0:05d}.png\".format(canvas.size[0])\n",
        "  canvas.save(results_path + '{0}'.format(result_image_name))\n",
        "\n",
        "  ## save a copy to input\n",
        "  ### first remove existing input\n",
        "  shutil.rmtree(input_path, ignore_errors=True)\n",
        "  if not os.path.exists(input_path):\n",
        "    os.mkdir(input_path)\n",
        "  ### then save to input\n",
        "  canvas.save(input_path + 'processed_img.png')\n",
        "\n",
        "  ## remove from output\n",
        "  shutil.rmtree(output_path, ignore_errors=True)\n",
        "  if not os.path.exists(output_path):\n",
        "    os.mkdir(output_path)\n",
        "\n",
        "  # increment iterator\n",
        "  image_w = canvas.size[0]\n",
        "  image_h = canvas.size[1]"
      ],
      "execution_count": null,
      "outputs": []
    },
    {
      "cell_type": "code",
      "metadata": {
        "id": "Ysh_MNXqEdLS"
      },
      "source": [
        "import imageio\n",
        "import numpy as np\n",
        "\n",
        "results_folder = \"/content/ESRGAN_Inpainting/results\"\n",
        "target_d = target_dimensions\n",
        "\n",
        "# horizontal only\n",
        "def make_project_progress_mp4():\n",
        "  result_images_list = [x for x in Path(results_folder).iterdir() if x.name.endswith('png') and 'result-img' in x.name]\n",
        "  result_images_list.sort()\n",
        "  # movie name\n",
        "  movieName = results_folder + '/result_video.mp4'\n",
        "  with imageio.get_writer(movieName, mode=\"I\") as writer:\n",
        "    for img_path in result_images_list:\n",
        "      canvas = PIL.Image.new('RGBA', (target_d, target_d), 'white')\n",
        "      img = Image.fromarray(imageio.imread(img_path))\n",
        "      offset_center = (target_d-img.size[0])//2 # horizontal\n",
        "      canvas.paste(img, (offset_center, 0))\n",
        "      writer.append_data(np.array(canvas))\n",
        "\n",
        "make_project_progress_mp4()\n"
      ],
      "execution_count": null,
      "outputs": []
    },
    {
      "cell_type": "code",
      "metadata": {
        "id": "Krb9y09ySyVs"
      },
      "source": [
        "import time\n",
        "\n",
        "# move video to save folder\n",
        "save_video_dir = '/content/drive/MyDrive/Random Drawings/InterpVideo/'\n",
        "if not os.path.exists(save_video_dir):\n",
        "  os.mkdir(save_video_dir)\n",
        "save_video_path = save_video_dir + 'result_video_{0}.mp4'.format(int(time.time()))\n",
        "\n",
        "shutil.copy('/content/ESRGAN_Inpainting/results/result_video.mp4', save_video_path)"
      ],
      "execution_count": null,
      "outputs": []
    },
    {
      "cell_type": "code",
      "metadata": {
        "id": "JvDWtyYAsLNO"
      },
      "source": [
        "# this makes greenscreen\n",
        "image_location = \"/content/drive/MyDrive/008 - AI and Me/4_Inpainting/input/CowboyAngel.png\"\n",
        "\n",
        "def greenscreen(image_location):\n",
        "  target_image = Image.open(Path(image_location))\n",
        "  max_dimension = max(target_image.size[0], target_image.size[1])\n",
        "  print(max_dimension)\n",
        "  print(target_image.size[0])\n",
        "  print(target_image.size[1])\n",
        "  while target_image.size[0] < max_dimension or target_image.size[1] < max_dimension:\n",
        "    print(target_image.size[0])\n",
        "    print(target_image.size[1])\n",
        "    target_image = add_pixel_layer(target_image.size[0], target_image.size[1], target_image)\n",
        "  return target_image\n",
        "\n",
        "# greenscreen(image_location)\n"
      ],
      "execution_count": null,
      "outputs": []
    }
  ]
}