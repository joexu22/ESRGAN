{
  "nbformat": 4,
  "nbformat_minor": 0,
  "metadata": {
    "colab": {
      "name": "Colab-ESRGAN.ipynb",
      "private_outputs": true,
      "provenance": [],
      "collapsed_sections": [
        "Vc-TQoDgVny5",
        "07qhXOj6Np2w"
      ],
      "toc_visible": true
    },
    "kernelspec": {
      "name": "python3",
      "display_name": "Python 3"
    },
    "accelerator": "GPU"
  },
  "cells": [
    {
      "cell_type": "markdown",
      "metadata": {
        "id": "T3wGB80dBZMe"
      },
      "source": [
        "# Colab-ESRGAN\n",
        "\n",
        "**WARNING FOR USERS: IF YOU WANT TO SWITCH BETWEEN ATA4 (OLD USED CODE) AND JOEY, DELETE ``Colab-ESRGAN`` FROM GOOGLE DRIVE AND REDOWNLOAD. IF YOU USED COLAB IN THE PAST AND WANT TO SWITCH TO JOEY, ALSO REDOWNLOAD CODE.**\n",
        "\n",
        "Original Colab file created by shahidul56 can be found [here](https://github.com/xinntao/ESRGAN/pull/22) and [here](https://colab.research.google.com/github/shahidul56/ESRGAN/blob/master/ESRGAN.ipynb). This also uses modifications from [here](https://github.com/ata4/esrgan-launcher). Big thanks to [ata4](https://github.com/ata4) and [JoeyBallentine](https://github.com/JoeyBallentine).\n",
        "\n",
        "ESRGAN tutorials and custom models can be found in this [wiki page](https://upscale.wiki/wiki/Main_Page).\n",
        "\n",
        "I personally recommend [fatal anime](https://de-next.owncube.com/index.php/s/x99pKzS7TNaErrC), [fatal pixels](https://de-next.owncube.com/index.php/s/mDGmi7NgdyyQRXL) and [YandereNeo](https://icedrive.net/1/f0UAiRqz3N) for drawn art.\n",
        "\n",
        "I also included a [1x DeJPEG model for jpg compression](https://de-next.owncube.com/index.php/s/w82HLrLWmWi4SQ5). Also made by twittman.\n",
        "\n",
        "Here an [imgur example with fatal pixels](https://imgur.com/a/Eeirogg) and [here one with fatal anime](https://imgur.com/a/yhA21GC). Currently too lazy to do a proper comparison.\n",
        "\n",
        "----------------------------------------------------------------\n",
        "\n",
        "Brief Google Colab instructions:\n",
        "- Run cells with these play-buttons that are visible on the left side of the code/text. ```[ ]``` indicate a play-button. Or press ```shift + enter``` while you are inside a cell.\n",
        "- Run the needed cells in the correct order. (up to down)\n",
        "- Follow the provided instructions in these commands.\n",
        "- You don't need to change anything. The only thing that probably needs to be changed are the parameter for the main.py file. Examples are provided.\n",
        "\n",
        "\n",
        "**Warning: The notebook is split in two independent parts**. One that works with Google Drive and one that works locally on Colab. If you have many files, then it is recommended to run ESRGAN within Colab and to transfer images with one .tar/.tar.gz archive. Just use either \"Google Drive Code with individual transfer of images\" or \"Running ESRGAN within Colab and transferring data with archives\" **after** mounting gdrive."
      ]
    },
    {
      "cell_type": "code",
      "metadata": {
        "id": "--dIWjjM-4-w",
        "cellView": "form"
      },
      "source": [
        "#@title Check your GPU and your VRAM\n",
        "!nvidia-smi"
      ],
      "execution_count": null,
      "outputs": []
    },
    {
      "cell_type": "code",
      "metadata": {
        "id": "7wPj3OqiHkd3",
        "cellView": "form"
      },
      "source": [
        "#@title Mount Google Drive\n",
        "from google.colab import drive\n",
        "drive.mount('/content/drive')\n",
        "print('Google Drive connected.')"
      ],
      "execution_count": null,
      "outputs": []
    },
    {
      "cell_type": "markdown",
      "metadata": {
        "id": "gqLtTIwSSbnw"
      },
      "source": [
        "-----------------------------------------------"
      ]
    },
    {
      "cell_type": "markdown",
      "metadata": {
        "id": "Vc-TQoDgVny5"
      },
      "source": [
        "# [(Joey)](https://github.com/JoeyBallentine/ESRGAN) Google Drive Code with individual transfer of images"
      ]
    },
    {
      "cell_type": "code",
      "metadata": {
        "id": "lKaLwKHZVx-e",
        "cellView": "form"
      },
      "source": [
        "#@title Download stuff \n",
        "#@markdown ```(Run this once. Running this while you already have a folder named ESRGAN in your Google Drive will give you an error.)```\n",
        "!pip install typer\n",
        "!pip install rich\n",
        "%cd \"/content/drive/My Drive\"\n",
        "!git clone https://github.com/JoeyBallentine/ESRGAN Colab-ESRGAN\n",
        "!mkdir \"/content/drive/My Drive/Colab-ESRGAN/input/\"\n",
        "!mkdir \"/content/drive/My Drive/Colab-ESRGAN/output/\"\n",
        "!mkdir \"/content/drive/My Drive/Colab-ESRGAN/models/\"\n",
        "%cd \"/content/drive/My Drive/Colab-ESRGAN\""
      ],
      "execution_count": null,
      "outputs": []
    },
    {
      "cell_type": "markdown",
      "metadata": {
        "id": "mC4E3BoIV4sv"
      },
      "source": [
        "You can use these 2 boxes to download models directly into your Google Drive. You can either add code or add models manually, by adding models into ```Google Drive/ESRGAN/models```. If you plan on doing so, then you need to specify the correct model in the last command. ```Run the following cells once, if you want to have these models in your drive.```"
      ]
    },
    {
      "cell_type": "code",
      "metadata": {
        "id": "50wGEJWwV7h-",
        "cellView": "form"
      },
      "source": [
        "#@title Download ESRGANx4 and PSNRx4\n",
        "%cd \"/content/drive/My Drive/Colab-ESRGAN\"\n",
        "!wget --no-check-certificate 'https://docs.google.com/uc?export=download&id=1MJFgqXJrMkPdKtiuy7C6xfsU1QIbXEb-' -O models/RRDB_ESRGAN_x4.pth\n",
        "!wget --no-check-certificate 'https://docs.google.com/uc?export=download&id=1mSJ6Z40weL-dnPvi390xDd3uZBCFMeqr' -O models/RRDB_PSNR_x4.pth"
      ],
      "execution_count": null,
      "outputs": []
    },
    {
      "cell_type": "code",
      "metadata": {
        "id": "1SztQDdgV72m",
        "cellView": "form"
      },
      "source": [
        "#@title Downlaod fatal_anime (Model by twittman)\n",
        "%cd \"/content/drive/My Drive/Colab-ESRGAN\"\n",
        "!wget --no-check-certificate \"https://de-next.owncube.com/index.php/s/x99pKzS7TNaErrC/download\" -O models/4x_fatal_Anime_500000_G.pth"
      ],
      "execution_count": null,
      "outputs": []
    },
    {
      "cell_type": "code",
      "metadata": {
        "id": "40xQFusJV8B8",
        "cellView": "form"
      },
      "source": [
        "#@title Downlaod fatal_pixels (Model by twittman)\n",
        "%cd \"/content/drive/My Drive/Colab-ESRGAN\"\n",
        "!wget --no-check-certificate \"https://de-next.owncube.com/index.php/s/mDGmi7NgdyyQRXL/download?path=%2F&files=4x_FatalPixels_340000_G.pth&downloadStartSecret=r4q3aw60ijm\" -O models/4x_FatalPixels_340000_G.pth"
      ],
      "execution_count": null,
      "outputs": []
    },
    {
      "cell_type": "code",
      "metadata": {
        "id": "7h6OKHf7V8K0",
        "cellView": "form"
      },
      "source": [
        "#@title Download deJpeg_Fatality_PlusULTRA (Model by twittman)\n",
        "%cd \"/content/drive/My Drive/Colab-ESRGAN\"\n",
        "!wget --no-check-certificate \"https://de-next.owncube.com/index.php/s/w82HLrLWmWi4SQ5/download\" -O models/1x_DeJpeg_Fatality_PlusULTRA_200000_G.pth"
      ],
      "execution_count": null,
      "outputs": []
    },
    {
      "cell_type": "code",
      "metadata": {
        "id": "YZJTLUxiegHO",
        "cellView": "form"
      },
      "source": [
        "#@title Download 4x_NMKD-YandereNeo-Lite_320k (Model by nmkd)\n",
        "!gdown --id 14lA-Ks5quxheNyVeXRvzeoSAOm6ISDHn -O \"/content/drive/My Drive/Colab-ESRGAN/models/4x_NMKD-YandereNeo-Lite_320k.pth\""
      ],
      "execution_count": null,
      "outputs": []
    },
    {
      "cell_type": "code",
      "metadata": {
        "id": "YKjBIHn8W4OR"
      },
      "source": [
        "# test with one model\n",
        "%cd \"/content/drive/My Drive/Colab-ESRGAN\"\n",
        "!python upscale.py 4x_NMKD-YandereNeo-Lite_320k.pth --input input/ --output output/"
      ],
      "execution_count": null,
      "outputs": []
    },
    {
      "cell_type": "code",
      "metadata": {
        "id": "FZ7DVHFRW54k"
      },
      "source": [
        "# test with chaining\n",
        "%cd \"/content/drive/My Drive/Colab-ESRGAN\"\n",
        "!python upscale.py \"4x_NMKD-YandereNeo-Lite_320k.pth>4x_fatal_Anime_500000_G.pth\" --input input/ --output output/"
      ],
      "execution_count": null,
      "outputs": []
    },
    {
      "cell_type": "code",
      "metadata": {
        "id": "7vK64AViezQN"
      },
      "source": [
        "# on the fly interpolation\n",
        "%cd \"/content/drive/My Drive/Colab-ESRGAN\"\n",
        "!python upscale.py \"4x_FatalPixels_340000_G.pth@50|4x_fatal_Anime_500000_G.pth@50\" --input input/ --output output/"
      ],
      "execution_count": null,
      "outputs": []
    },
    {
      "cell_type": "markdown",
      "metadata": {
        "id": "lvPwUny2W8X7"
      },
      "source": [
        "Other interesting parameter:\n",
        "```\n",
        "--seamless [tile|mirror|replicate|alpha_pad]\n",
        "\n",
        "--alpha-mode [no_alpha|bas|alpha_separately|swapping]\n",
        "\n",
        "--skip_existing\n",
        "\n",
        "-fp16\n",
        "```"
      ]
    },
    {
      "cell_type": "markdown",
      "metadata": {
        "id": "NInoaP1TW__s"
      },
      "source": [
        "A few options to reduce filesize."
      ]
    },
    {
      "cell_type": "code",
      "metadata": {
        "id": "cSWujZWfXMTZ",
        "cellView": "form"
      },
      "source": [
        "#@title download/install oxipng and imagemagick\n",
        "%cd /content\n",
        "!wget \"https://github.com/shssoichiro/oxipng/releases/download/v4.0.3/oxipng-4.0.3-x86_64-unknown-linux-musl.tar.gz\"\n",
        "!7z x /content/oxipng-4.0.3-x86_64-unknown-linux-musl.tar.gz\n",
        "!7z x /content/oxipng-4.0.3-x86_64-unknown-linux-musl.tar\n",
        "!chmod +x /content/oxipng-4.0.3-x86_64-unknown-linux-musl/oxipng\n",
        "\n",
        "!sudo apt-get update\n",
        "!sudo apt install imagemagick --fix-missing"
      ],
      "execution_count": null,
      "outputs": []
    },
    {
      "cell_type": "code",
      "metadata": {
        "id": "BT_6bks6XH6E",
        "cellView": "form"
      },
      "source": [
        "#@title resize pictures in ```/output``` with imagemagick (50% size)\n",
        "!find \"/content/drive/My Drive/Colab-ESRGAN/output/\" -name '*.png' -exec mogrify -resize 50% {} +"
      ],
      "execution_count": null,
      "outputs": []
    },
    {
      "cell_type": "code",
      "metadata": {
        "cellView": "form",
        "id": "pRZx4a8Jru5l"
      },
      "source": [
        "#@title resize pictures in ```/output``` with PIL/OpenCV (50% size)\n",
        "#@markdown Configured settings: OpenCV uses AREA and PIL uses it's default.\n",
        "from tqdm import tqdm\n",
        "import os\n",
        "import glob\n",
        "import cv2\n",
        "import threading\n",
        "import shutil\n",
        "import hashlib\n",
        "import PIL\n",
        "from PIL import Image\n",
        "import numpy as np\n",
        "import hashlib\n",
        "\n",
        "rootdir = \"/content/drive/My Drive/Colab-ESRGAN/output/\"\n",
        "\n",
        "resize_method = 'PIL' #@param [\"OpenCV\", \"PIL\"] {allow-input: false}\n",
        "files = glob.glob(rootdir + '/**/*.png', recursive=True)\n",
        "\n",
        "for file in tqdm(files):\n",
        "    image = cv2.imread(file)\n",
        "    if image is not None:\n",
        "        size_y = int(image.shape[0]/2)\n",
        "        size_x = int(image.shape[1]/2)\n",
        "        #####################################\n",
        "        # resize with opencv\n",
        "        if resize_method == \"OpenCV\":\n",
        "          resized = cv2.resize(image, (size_x, size_y), interpolation=cv2.INTER_AREA)\n",
        "\n",
        "        # resize with PIL\n",
        "        elif resize_method == \"PIL\":\n",
        "          image = Image.fromarray(image)\n",
        "          image = image.resize((size_x, size_y))\n",
        "          resized = np.asarray(image)\n",
        "        #####################################\n",
        "        cv2.imwrite(file, resized)"
      ],
      "execution_count": null,
      "outputs": []
    },
    {
      "cell_type": "code",
      "metadata": {
        "id": "ectARsP8XKeY",
        "cellView": "form"
      },
      "source": [
        "#@title making ```/output``` losslessly smaller with oxipng\n",
        "!find \"/content/drive/My Drive/Colab-ESRGAN/output/\" -name '*.png' -exec /content/oxipng-4.0.3-x86_64-unknown-linux-musl/oxipng -o 4 --strip all {} +"
      ],
      "execution_count": null,
      "outputs": []
    },
    {
      "cell_type": "markdown",
      "metadata": {
        "id": "07qhXOj6Np2w"
      },
      "source": [
        "# [(Joey)](https://github.com/JoeyBallentine/ESRGAN) Running ESRGAN within Colab and transferring data with archives\n",
        "\n",
        "If you plan on upscaling many files, this is the better choice.\n",
        "\n",
        "Put your ```data.tar/.tar.gz``` file in ```/Google Drive/ESRGAN/input/```. The result will be in  ```/Google Drive/ESRGAN/output/```\n",
        "\n",
        "You can comment out wget commands for faster speed.\n"
      ]
    },
    {
      "cell_type": "code",
      "metadata": {
        "id": "5utsD9oUNwds",
        "cellView": "form"
      },
      "source": [
        "#@title Download and install stuff\n",
        "%cd /content/\n",
        "!pip install tqdm\n",
        "!pip install typer\n",
        "!pip install rich\n",
        "!git clone https://github.com/JoeyBallentine/ESRGAN Colab-ESRGAN\n",
        "!mkdir /content/Colab-ESRGAN/models/\n",
        "!wget --no-check-certificate 'https://docs.google.com/uc?export=download&id=1MJFgqXJrMkPdKtiuy7C6xfsU1QIbXEb-' -O /content/Colab-ESRGAN/models/RRDB_ESRGAN_x4.pth\n",
        "!wget --no-check-certificate 'https://docs.google.com/uc?export=download&id=1mSJ6Z40weL-dnPvi390xDd3uZBCFMeqr' -O /content/Colab-ESRGAN/models/RRDB_PSNR_x4.pth\n",
        "!wget --no-check-certificate \"https://de-next.owncube.com/index.php/s/mDGmi7NgdyyQRXL/download?path=%2F&files=4x_FatalPixels_340000_G.pth&downloadStartSecret=r4q3aw60ijm\" -O /content/Colab-ESRGAN/models/4x_FatalPixels_340000_G.pth\n",
        "!wget --no-check-certificate \"https://de-next.owncube.com/index.php/s/x99pKzS7TNaErrC/download\" -O /content/Colab-ESRGAN/models/4x_fatal_Anime_500000_G.pth\n",
        "!wget --no-check-certificate \"https://de-next.owncube.com/index.php/s/w82HLrLWmWi4SQ5/download\" -O /content/Colab-ESRGAN/models/1x_DeJpeg_Fatality_PlusULTRA_200000_G.pth\n",
        "!gdown --id 14lA-Ks5quxheNyVeXRvzeoSAOm6ISDHn -O \"/content/Colab-ESRGAN/models/4x_NMKD-YandereNeo-Lite_320k.pth\"\n",
        "!mkdir /content/Colab-ESRGAN/input/\n",
        "!mkdir /content/Colab-ESRGAN/output/\n",
        "%cd  /content/Colab-ESRGAN/\n",
        "!sudo rm -rf /content/Colab-ESRGAN/input\n",
        "!mkdir /content/Colab-ESRGAN/input\n",
        "!sudo rm -rf /content/Colab-ESRGAN/output\n",
        "!mkdir /content/Colab-ESRGAN/output"
      ],
      "execution_count": null,
      "outputs": []
    },
    {
      "cell_type": "markdown",
      "metadata": {
        "id": "nEEwG-ayUb1n"
      },
      "source": [
        "If you want to use the 7z GUI, here is how you do it. With the 7z GUI you can create a .tar, then create a new archive with only that file and select \"gzip\". You need to create an archive twice. The final file should be data.tar.gz. You can change between .tar/.tar.gz in the paths. If .tar.gz is used, then compression is applied."
      ]
    },
    {
      "cell_type": "code",
      "metadata": {
        "cellView": "form",
        "id": "RbzfSkTkUfZ8"
      },
      "source": [
        "#@title Downloading ```data.tar.gz``` from Google Drive and extracting it.\n",
        "!cp \"/content/drive/My Drive/Colab-ESRGAN/input/data.tar.gz\" /content/Colab-ESRGAN/input/data.tar.gz\n",
        "!tar -C /content/Colab-ESRGAN/input/ -zxvf /content/Colab-ESRGAN/input/data.tar.gz\n",
        "!sudo rm -rf /content/Colab-ESRGAN/input/data.tar.gz\n",
        "%cd /content/Colab-ESRGAN"
      ],
      "execution_count": null,
      "outputs": []
    },
    {
      "cell_type": "code",
      "metadata": {
        "cellView": "form",
        "id": "9NfW9zT-Upzf"
      },
      "source": [
        "#@title Downloading ```data.tar``` from Google Drive and extracting it.\n",
        "!cp \"/content/drive/My Drive/Colab-ESRGAN/input/data.tar\" /content/Colab-ESRGAN/input/data.tar\n",
        "!tar -C /content/ESRGAN/input -xvf /content/Colab-ESRGAN/input/data.tar\n",
        "!sudo rm -rf /content/Colab-ESRGAN/input/data.tar"
      ],
      "execution_count": null,
      "outputs": []
    },
    {
      "cell_type": "code",
      "metadata": {
        "id": "wM7pkAw2Diq2"
      },
      "source": [
        "# test with one model\n",
        "!python upscale.py 4x_NMKD-YandereNeo-Lite_320k.pth --input input/ --output output/"
      ],
      "execution_count": null,
      "outputs": []
    },
    {
      "cell_type": "code",
      "metadata": {
        "id": "R8C3uL3-coOo"
      },
      "source": [
        "# test with chaining\n",
        "!python upscale.py \"4x_NMKD-YandereNeo-Lite_320k.pth>4x_fatal_Anime_500000_G.pth\" --input input/ --output output/"
      ],
      "execution_count": null,
      "outputs": []
    },
    {
      "cell_type": "code",
      "metadata": {
        "id": "aI3TFk1KRE37"
      },
      "source": [
        "# on the fly interpolation\n",
        "!python upscale.py \"4x_FatalPixels_340000_G.pth@50|4x_fatal_Anime_500000_G.pth@50\" --input input/ --output output/"
      ],
      "execution_count": null,
      "outputs": []
    },
    {
      "cell_type": "markdown",
      "metadata": {
        "id": "dPnw06LwRTUW"
      },
      "source": [
        "Other interesting parameter:\n",
        "```\n",
        "--seamless [tile|mirror|replicate|alpha_pad]\n",
        "\n",
        "--alpha-mode [no_alpha|bas|alpha_separately|swapping]\n",
        "\n",
        "--skip_existing\n",
        "\n",
        "-fp16\n",
        "```"
      ]
    },
    {
      "cell_type": "markdown",
      "metadata": {
        "id": "2aKxNlfJTfmO"
      },
      "source": [
        "A few options to reduce filesize."
      ]
    },
    {
      "cell_type": "code",
      "metadata": {
        "id": "BZUegluhZEJG",
        "cellView": "form"
      },
      "source": [
        "#@title download/install oxipng and imagemagick\n",
        "%cd /content/Colab-ESRGAN\n",
        "!wget \"https://github.com/shssoichiro/oxipng/releases/download/v4.0.3/oxipng-4.0.3-x86_64-unknown-linux-musl.tar.gz\"\n",
        "!7z x /content/Colab-ESRGAN/oxipng-4.0.3-x86_64-unknown-linux-musl.tar.gz\n",
        "!7z x /content/Colab-ESRGAN/oxipng-4.0.3-x86_64-unknown-linux-musl.tar\n",
        "!chmod +x /content/Colab-ESRGAN/oxipng-4.0.3-x86_64-unknown-linux-musl/oxipng\n",
        "\n",
        "!sudo apt-get update\n",
        "!sudo apt install imagemagick --fix-missing"
      ],
      "execution_count": null,
      "outputs": []
    },
    {
      "cell_type": "code",
      "metadata": {
        "id": "Sjr1o0MEWqPF",
        "cellView": "form"
      },
      "source": [
        "#@title resize pictures with imagemagick (50% size)\n",
        "!find /content/Colab-ESRGAN/output -name '*.png' -exec mogrify -resize 50% {} +"
      ],
      "execution_count": null,
      "outputs": []
    },
    {
      "cell_type": "code",
      "metadata": {
        "cellView": "form",
        "id": "y6sCmLZGpzmK"
      },
      "source": [
        "#@title resize pictures with PIL/OpenCV (50% size)\n",
        "#@markdown Configured settings: OpenCV uses AREA and PIL uses it's default.\n",
        "from tqdm import tqdm\n",
        "import os\n",
        "import glob\n",
        "import cv2\n",
        "import threading\n",
        "import shutil\n",
        "import hashlib\n",
        "import PIL\n",
        "from PIL import Image\n",
        "import numpy as np\n",
        "import hashlib\n",
        "\n",
        "rootdir = \"/content/Colab-ESRGAN/output\"\n",
        "\n",
        "resize_method = 'PIL' #@param [\"OpenCV\", \"PIL\"] {allow-input: false}\n",
        "files = glob.glob(rootdir + '/**/*.png', recursive=True)\n",
        "\n",
        "for file in tqdm(files):\n",
        "    image = cv2.imread(file)\n",
        "    if image is not None:\n",
        "        size_y = int(image.shape[0]/2)\n",
        "        size_x = int(image.shape[1]/2)\n",
        "        #####################################\n",
        "        # resize with opencv\n",
        "        if resize_method == \"OpenCV\":\n",
        "          resized = cv2.resize(image, (size_x, size_y), interpolation=cv2.INTER_AREA)\n",
        "\n",
        "        # resize with PIL\n",
        "        elif resize_method == \"PIL\":\n",
        "          image = Image.fromarray(image)\n",
        "          image = image.resize((size_x, size_y))\n",
        "          resized = np.asarray(image)\n",
        "        #####################################\n",
        "        cv2.imwrite(file, resized)"
      ],
      "execution_count": null,
      "outputs": []
    },
    {
      "cell_type": "code",
      "metadata": {
        "id": "hZjAO0p1Wqm_",
        "cellView": "form"
      },
      "source": [
        "#@title making output losslessly smaller with oxipng\n",
        "!find /content/Colab-ESRGAN/output -name '*.png' -exec /content/Colab-ESRGAN/oxipng-4.0.3-x86_64-unknown-linux-musl/oxipng -o 4 --strip all {} +"
      ],
      "execution_count": null,
      "outputs": []
    },
    {
      "cell_type": "markdown",
      "metadata": {
        "id": "wNinxhYPa2xz"
      },
      "source": [
        "Copy data back"
      ]
    },
    {
      "cell_type": "code",
      "metadata": {
        "cellView": "form",
        "id": "eP7ZRbxmUNQ0"
      },
      "source": [
        "#@title Create archive and copy back archive to Google Drive\n",
        "!mkdir \"/content/drive/My Drive/Colab-ESRGAN/output\"\n",
        "!tar -cvf /content/output.tar.gz /content/Colab-ESRGAN/output\n",
        "!cp /content/output.tar.gz \"/content/drive/My Drive/Colab-ESRGAN/output/output.tar.gz\""
      ],
      "execution_count": null,
      "outputs": []
    }
  ]
}